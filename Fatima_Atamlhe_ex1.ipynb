{
  "nbformat": 4,
  "nbformat_minor": 0,
  "metadata": {
    "colab": {
      "provenance": []
    },
    "kernelspec": {
      "name": "python3",
      "display_name": "Python 3"
    },
    "language_info": {
      "name": "python"
    }
  },
  "cells": [
    {
      "cell_type": "markdown",
      "source": [
        "1. Load breast cancer dataset (**structured data**)\n",
        "\n",
        "For more details about the data: https://scikit-learn.org/1.5/modules/generated/sklearn.datasets.load_breast_cancer.html"
      ],
      "metadata": {
        "id": "t1I0ncvTh3x8"
      }
    },
    {
      "cell_type": "code",
      "source": [
        "\n",
        "from sklearn.datasets import load_breast_cancer\n",
        "\n",
        "my_data = load_breast_cancer()\n",
        "X = my_data.data\n",
        "y = my_data.target\n",
        "\n",
        "print(\"Data loaded successfully!\")\n",
        "print(\"Features shape:\", X.shape)\n",
        "print(\"Target shape:\", y.shape)"
      ],
      "metadata": {
        "id": "QbVFGbTWiI1W",
        "colab": {
          "base_uri": "https://localhost:8080/"
        },
        "outputId": "f193711f-58ed-4f0d-dcf7-9757877af736"
      },
      "execution_count": 4,
      "outputs": [
        {
          "output_type": "stream",
          "name": "stdout",
          "text": [
            "Data loaded successfully!\n",
            "Features shape: (569, 30)\n",
            "Target shape: (569,)\n"
          ]
        }
      ]
    },
    {
      "cell_type": "markdown",
      "source": [
        "2. Visualize the data\n",
        "\n",
        "- Only **5 points** for visualizing the data\n",
        "- Use TSNE algorithm: sklearn.manifold.TSNE\n",
        "- A good and simple code can be found here (they used PCA instead of TSNE): https://skp2707.medium.com/pca-on-cancer-dataset-4d7a97f5fdb8"
      ],
      "metadata": {
        "id": "LZgoZpwxXcuz"
      }
    },
    {
      "cell_type": "code",
      "source": [
        "from sklearn.manifold import TSNE\n",
        "import numpy as np\n",
        "import pandas as pd\n",
        "import seaborn as sns\n",
        "import matplotlib.pyplot as plt\n",
        "\n",
        "# Reduce dataset to 5 points\n",
        "X_sample = X[:5]\n",
        "y_sample = y[:5]\n",
        "\n",
        "# Apply TSNE\n",
        "tsne = TSNE(n_components=2, random_state=42, perplexity=3)\n",
        "X_tsne = tsne.fit_transform(X_sample)\n",
        "\n",
        "# Visualization\n",
        "plt.figure(figsize=(8, 6))\n",
        "sns.scatterplot(x=X_tsne[:, 0], y=X_tsne[:, 1], hue=y_sample, palette='viridis', legend=\"full\")\n",
        "plt.title(\"T-SNE Visualization (5 Points)\")\n",
        "plt.xlabel(\"T-SNE Component 1\")\n",
        "plt.ylabel(\"T-SNE Component 2\")\n",
        "plt.show()\n"
      ],
      "metadata": {
        "id": "D3DKodjmYIBD",
        "colab": {
          "base_uri": "https://localhost:8080/",
          "height": 564
        },
        "outputId": "0914f93d-7be7-425b-b066-471aba3d5d1c"
      },
      "execution_count": 23,
      "outputs": [
        {
          "output_type": "display_data",
          "data": {
            "text/plain": [
              "<Figure size 800x600 with 1 Axes>"
            ],
            "image/png": "[encoded data removed]"
          },
          "metadata": {}
        }
      ]
    },
    {
      "cell_type": "markdown",
      "source": [
        "3. Split **my_data** to train and test:\n",
        "\n",
        "- Define X_train, X_test, Y_train, Y_test\n",
        "- Choose **test_size** for splitting **my_data**\n",
        "- Use **train_test_split** (for details: https://scikit-learn.org/dev/modules/generated/sklearn.model_selection.train_test_split.html)"
      ],
      "metadata": {
        "id": "LpYvmEUWlf2l"
      }
    },
    {
      "cell_type": "code",
      "source": [
        "\n",
        "from sklearn.model_selection import train_test_split\n",
        "\n",
        "# X_train, X_test, Y_train, Y_test = train_test_split(...)\n",
        "X_train, X_test, y_train, y_test = train_test_split(X, y, test_size=0.3, random_state=42)\n",
        "\n",
        "print(\"Data Split!\")\n",
        "print(f\"Training data: {X_train.shape[0]} samples\")\n",
        "print(f\"Testing data: {X_test.shape[0]} samples\")"
      ],
      "metadata": {
        "id": "V8CpCqnGmCg2",
        "colab": {
          "base_uri": "https://localhost:8080/"
        },
        "outputId": "731313e6-59f0-4c7f-b8ad-50a10e097f8c"
      },
      "execution_count": 6,
      "outputs": [
        {
          "output_type": "stream",
          "name": "stdout",
          "text": [
            "Data Split!\n",
            "Training data: 398 samples\n",
            "Testing data: 171 samples\n"
          ]
        }
      ]
    },
    {
      "cell_type": "markdown",
      "source": [
        "4. Train **model_decision_tree**\n",
        "\n",
        "- Library: sklearn.tree.DecisionTreeClassifier\n",
        "- Data: X_train, Y_train\n",
        "- **Essential**: explore and optimize DecisionTreeClassifier options   "
      ],
      "metadata": {
        "id": "o1_cFF_cjIyK"
      }
    },
    {
      "cell_type": "code",
      "source": [
        "from sklearn.tree import DecisionTreeClassifier\n",
        "\n",
        "# model_decision_tree = DecisionTreeClassifier(...)\n",
        "# model_decision_tree.fit(...)\n",
        "model_decision_tree = DecisionTreeClassifier(max_depth=20, random_state=20)\n",
        "model_decision_tree.fit(X_train, y_train)\n",
        "\n",
        "print(\"Decision Tree trained successfully!\")"
      ],
      "metadata": {
        "id": "W8CWNt_2iZm4",
        "colab": {
          "base_uri": "https://localhost:8080/"
        },
        "outputId": "5aa2d7cf-cd32-4fcd-9cdb-173a33d40e88"
      },
      "execution_count": 32,
      "outputs": [
        {
          "output_type": "stream",
          "name": "stdout",
          "text": [
            "Decision Tree trained successfully!\n"
          ]
        }
      ]
    },
    {
      "cell_type": "markdown",
      "source": [
        "5. Train model_random_forest\n",
        "- Library: sklearn.ensemble.RandomForestClassifier\n",
        "- Data: X_train, Y_train\n",
        "- **Essential**: explore and optimize RandomForestClassifier options"
      ],
      "metadata": {
        "id": "X__nmyElkPWs"
      }
    },
    {
      "cell_type": "code",
      "source": [
        "from sklearn.ensemble import RandomForestClassifier\n",
        "\n",
        "# model_random_forest = RandomForestClassifier(...)\n",
        "# model_random_forest.fit(...)\n",
        "model_random_forest = RandomForestClassifier(n_estimators=100, max_depth=64, random_state=22)\n",
        "model_random_forest.fit(X_train, y_train)\n",
        "\n",
        "print(\"Random Forest trained successfully!\")"
      ],
      "metadata": {
        "id": "6B4GKjlCkRdT",
        "colab": {
          "base_uri": "https://localhost:8080/"
        },
        "outputId": "74429feb-583b-4acc-f114-8370c53bf416"
      },
      "execution_count": 42,
      "outputs": [
        {
          "output_type": "stream",
          "name": "stdout",
          "text": [
            "Random Forest trained successfully!\n"
          ]
        }
      ]
    },
    {
      "cell_type": "markdown",
      "source": [
        "6. Train model_adaboost\n",
        "\n",
        "- Library: sklearn.ensemble.AdaBoostClassifier\n",
        "- Data: X_train, Y_train\n",
        "- **Essential**: explore and optimize AdaBoostClassifier options"
      ],
      "metadata": {
        "id": "4qOTlMrDkSBM"
      }
    },
    {
      "cell_type": "code",
      "source": [
        "from sklearn.ensemble import AdaBoostClassifier\n",
        "\n",
        "# model_adaboost = AdaBoostClassifier(...)\n",
        "# model_adaboost.fit(...)\n",
        "model_adaboost = AdaBoostClassifier(n_estimators=55, random_state=4)\n",
        "model_adaboost.fit(X_train, y_train)\n",
        "\n",
        "print(\"AdaBoost trained successfully!\")"
      ],
      "metadata": {
        "id": "Y5VGaDhJkYsL",
        "colab": {
          "base_uri": "https://localhost:8080/"
        },
        "outputId": "b70e00b6-a8ee-4c80-e4ff-38698d159e16"
      },
      "execution_count": 67,
      "outputs": [
        {
          "output_type": "stream",
          "name": "stderr",
          "text": [
            "/usr/local/lib/python3.10/dist-packages/sklearn/ensemble/_weight_boosting.py:527: FutureWarning: The SAMME.R algorithm (the default) is deprecated and will be removed in 1.6. Use the SAMME algorithm to circumvent this warning.\n",
            "  warnings.warn(\n"
          ]
        },
        {
          "output_type": "stream",
          "name": "stdout",
          "text": [
            "AdaBoost trained successfully!\n"
          ]
        }
      ]
    },
    {
      "cell_type": "markdown",
      "source": [
        "7. Evaluate model_decision_tree, model_random_forest, model_adaboost\n",
        "\n",
        "- Library: sklearn.metrics\n",
        "- Data: X_test, Y_test\n",
        "- **Calculate** and **print** results of each classifier\n",
        "- **Choose** the decisive metric\n",
        "- **Compare** between the classifiers and declare the winner\n"
      ],
      "metadata": {
        "id": "0AdCG5Pfta5S"
      }
    },
    {
      "cell_type": "code",
      "source": [
        "from sklearn.metrics import accuracy_score\n",
        "from sklearn.metrics import confusion_matrix\n",
        "from sklearn.metrics import precision_score\n",
        "from sklearn.metrics import recall_score\n",
        "from sklearn.metrics import f1_score\n",
        "\n",
        "def evaluate_model(model, X_test, y_test):\n",
        "    y_pred = model.predict(X_test)\n",
        "    accuracy = accuracy_score(y_test, y_pred)\n",
        "    precision = precision_score(y_test, y_pred)\n",
        "    recall = recall_score(y_test, y_pred)\n",
        "    f1 = f1_score(y_test, y_pred)\n",
        "    print(f\"Accuracy: {accuracy:.4f}\")\n",
        "    print(f\"Precision: {precision:.4f}\")\n",
        "    print(f\"Recall: {recall:.4f}\")\n",
        "    print(f\"F1 Score: {f1:.4f}\")\n",
        "    return f1\n",
        "\n",
        "# Evaluate Decision Tree\n",
        "print(\"Decision Tree Performance:\")\n",
        "f1_dt = evaluate_model(model_decision_tree, X_test, y_test)\n",
        "\n",
        "# Evaluate Random Forest\n",
        "print(\"\\nRandom Forest Performance:\")\n",
        "f1_rf = evaluate_model(model_random_forest, X_test, y_test)\n",
        "\n",
        "# Evaluate AdaBoost\n",
        "print(\"\\nAdaBoost Performance:\")\n",
        "f1_ab = evaluate_model(model_adaboost, X_test, y_test)\n",
        "# Compare F1 scores\n",
        "models = {\n",
        "    \"Decision Tree\": f1_dt,\n",
        "    \"Random Forest\": f1_rf,\n",
        "    \"AdaBoost\": f1_ab\n",
        "}\n",
        "\n",
        "best_model = max(models, key=models.get)\n",
        "print(f\"\\nThe best model is: {best_model} with F1 Score = {models[best_model]:.4f}\")"
      ],
      "metadata": {
        "id": "MkTXQR3mrBmM",
        "colab": {
          "base_uri": "https://localhost:8080/"
        },
        "outputId": "b0009a2d-2688-41eb-96fc-4cd55fba86bf"
      },
      "execution_count": 68,
      "outputs": [
        {
          "output_type": "stream",
          "name": "stdout",
          "text": [
            "Decision Tree Performance:\n",
            "Accuracy: 0.9357\n",
            "Precision: 0.9709\n",
            "Recall: 0.9259\n",
            "F1 Score: 0.9479\n",
            "\n",
            "Random Forest Performance:\n",
            "Accuracy: 0.9708\n",
            "Precision: 0.9640\n",
            "Recall: 0.9907\n",
            "F1 Score: 0.9772\n",
            "\n",
            "AdaBoost Performance:\n",
            "Accuracy: 0.9825\n",
            "Precision: 0.9907\n",
            "Recall: 0.9815\n",
            "F1 Score: 0.9860\n",
            "\n",
            "The best model is: AdaBoost with F1 Score = 0.9860\n"
          ]
        }
      ]
    }
  ]
}